{
 "cells": [
  {
   "cell_type": "code",
   "execution_count": 6,
   "id": "99838fe7",
   "metadata": {},
   "outputs": [],
   "source": [
    "import pandas as pd\n",
    "import numpy as np\n",
    "import seaborn as sns\n",
    "from matplotlib import pyplot as plt\n",
    "\n",
    "import warnings\n",
    "warnings.filterwarnings('ignore')"
   ]
  },
  {
   "cell_type": "code",
   "execution_count": 7,
   "id": "a583c6e0",
   "metadata": {},
   "outputs": [
    {
     "name": "stdout",
     "output_type": "stream",
     "text": [
      "      ID  year loan_limit             Gender approv_in_adv loan_type  \\\n",
      "0  24890  2019         cf  Sex Not Available         nopre     type1   \n",
      "1  24891  2019         cf               Male         nopre     type2   \n",
      "2  24892  2019         cf               Male           pre     type1   \n",
      "3  24893  2019         cf               Male         nopre     type1   \n",
      "4  24894  2019         cf              Joint           pre     type1   \n",
      "\n",
      "  loan_purpose Credit_Worthiness open_credit business_or_commercial  ...  \\\n",
      "0           p1                l1        nopc                  nob/c  ...   \n",
      "1           p1                l1        nopc                    b/c  ...   \n",
      "2           p1                l1        nopc                  nob/c  ...   \n",
      "3           p4                l1        nopc                  nob/c  ...   \n",
      "4           p1                l1        nopc                  nob/c  ...   \n",
      "\n",
      "   credit_type  Credit_Score  co-applicant_credit_type    age  \\\n",
      "0          EXP           758                       CIB  25-34   \n",
      "1         EQUI           552                       EXP  55-64   \n",
      "2          EXP           834                       CIB  35-44   \n",
      "3          EXP           587                       CIB  45-54   \n",
      "4         CRIF           602                       EXP  25-34   \n",
      "\n",
      "   submission_of_application        LTV Region Security_Type  Status dtir1  \n",
      "0                    to_inst  98.728814  south        direct       1  45.0  \n",
      "1                    to_inst        NaN  North        direct       1   NaN  \n",
      "2                    to_inst  80.019685  south        direct       0  46.0  \n",
      "3                   not_inst  69.376900  North        direct       0  42.0  \n",
      "4                   not_inst  91.886544  North        direct       0  39.0  \n",
      "\n",
      "[5 rows x 34 columns]\n"
     ]
    }
   ],
   "source": [
    "loan = pd.read_csv('Data/Loan_Default.csv')\n",
    "print(loan.head())"
   ]
  },
  {
   "cell_type": "code",
   "execution_count": 8,
   "id": "2a051ce0",
   "metadata": {},
   "outputs": [
    {
     "name": "stdout",
     "output_type": "stream",
     "text": [
      "<class 'pandas.core.frame.DataFrame'>\n",
      "RangeIndex: 148670 entries, 0 to 148669\n",
      "Data columns (total 34 columns):\n",
      " #   Column                     Non-Null Count   Dtype  \n",
      "---  ------                     --------------   -----  \n",
      " 0   ID                         148670 non-null  int64  \n",
      " 1   year                       148670 non-null  int64  \n",
      " 2   loan_limit                 145326 non-null  object \n",
      " 3   Gender                     148670 non-null  object \n",
      " 4   approv_in_adv              147762 non-null  object \n",
      " 5   loan_type                  148670 non-null  object \n",
      " 6   loan_purpose               148536 non-null  object \n",
      " 7   Credit_Worthiness          148670 non-null  object \n",
      " 8   open_credit                148670 non-null  object \n",
      " 9   business_or_commercial     148670 non-null  object \n",
      " 10  loan_amount                148670 non-null  int64  \n",
      " 11  rate_of_interest           112231 non-null  float64\n",
      " 12  Interest_rate_spread       112031 non-null  float64\n",
      " 13  Upfront_charges            109028 non-null  float64\n",
      " 14  term                       148629 non-null  float64\n",
      " 15  Neg_ammortization          148549 non-null  object \n",
      " 16  interest_only              148670 non-null  object \n",
      " 17  lump_sum_payment           148670 non-null  object \n",
      " 18  property_value             133572 non-null  float64\n",
      " 19  construction_type          148670 non-null  object \n",
      " 20  occupancy_type             148670 non-null  object \n",
      " 21  Secured_by                 148670 non-null  object \n",
      " 22  total_units                148670 non-null  object \n",
      " 23  income                     139520 non-null  float64\n",
      " 24  credit_type                148670 non-null  object \n",
      " 25  Credit_Score               148670 non-null  int64  \n",
      " 26  co-applicant_credit_type   148670 non-null  object \n",
      " 27  age                        148470 non-null  object \n",
      " 28  submission_of_application  148470 non-null  object \n",
      " 29  LTV                        133572 non-null  float64\n",
      " 30  Region                     148670 non-null  object \n",
      " 31  Security_Type              148670 non-null  object \n",
      " 32  Status                     148670 non-null  int64  \n",
      " 33  dtir1                      124549 non-null  float64\n",
      "dtypes: float64(8), int64(5), object(21)\n",
      "memory usage: 38.6+ MB\n"
     ]
    }
   ],
   "source": [
    "loan.info()"
   ]
  },
  {
   "cell_type": "code",
   "execution_count": 9,
   "id": "50bd5089",
   "metadata": {},
   "outputs": [
    {
     "data": {
      "text/plain": [
       "array([2019])"
      ]
     },
     "execution_count": 9,
     "metadata": {},
     "output_type": "execute_result"
    }
   ],
   "source": [
    "loan.year.unique()"
   ]
  },
  {
   "cell_type": "markdown",
   "id": "784f9391",
   "metadata": {},
   "source": [
    "Since we have only one year,2019, i guess we can drop year column"
   ]
  },
  {
   "cell_type": "code",
   "execution_count": 10,
   "id": "784ff78f",
   "metadata": {},
   "outputs": [],
   "source": [
    "loan.drop(columns=['year'], inplace=True)"
   ]
  },
  {
   "cell_type": "code",
   "execution_count": 11,
   "id": "2a38a89b",
   "metadata": {},
   "outputs": [],
   "source": [
    "#converting all column names into lower case as it will be difficult\n",
    "\n",
    "# Convert all column names to lowercase\n",
    "loan.columns = loan.columns.str.lower()\n"
   ]
  },
  {
   "cell_type": "code",
   "execution_count": 12,
   "id": "9f2381b2",
   "metadata": {},
   "outputs": [
    {
     "data": {
      "text/plain": [
       "id                               0\n",
       "loan_limit                    3344\n",
       "gender                           0\n",
       "approv_in_adv                  908\n",
       "loan_type                        0\n",
       "loan_purpose                   134\n",
       "credit_worthiness                0\n",
       "open_credit                      0\n",
       "business_or_commercial           0\n",
       "loan_amount                      0\n",
       "rate_of_interest             36439\n",
       "interest_rate_spread         36639\n",
       "upfront_charges              39642\n",
       "term                            41\n",
       "neg_ammortization              121\n",
       "interest_only                    0\n",
       "lump_sum_payment                 0\n",
       "property_value               15098\n",
       "construction_type                0\n",
       "occupancy_type                   0\n",
       "secured_by                       0\n",
       "total_units                      0\n",
       "income                        9150\n",
       "credit_type                      0\n",
       "credit_score                     0\n",
       "co-applicant_credit_type         0\n",
       "age                            200\n",
       "submission_of_application      200\n",
       "ltv                          15098\n",
       "region                           0\n",
       "security_type                    0\n",
       "status                           0\n",
       "dtir1                        24121\n",
       "dtype: int64"
      ]
     },
     "execution_count": 12,
     "metadata": {},
     "output_type": "execute_result"
    }
   ],
   "source": [
    "loan.isnull().sum()"
   ]
  },
  {
   "cell_type": "markdown",
   "id": "95da861a",
   "metadata": {},
   "source": [
    "Apparently there are too many null variables in columns, let us separete them to numrical and categorical columns and then work on Null values."
   ]
  },
  {
   "cell_type": "code",
   "execution_count": 13,
   "id": "5e4f203a",
   "metadata": {},
   "outputs": [],
   "source": [
    "# Getting dataframe columns by datatype\n",
    "dtypes = pd.DataFrame(loan.dtypes).reset_index()\n",
    "\n",
    "cat_vars = []\n",
    "num_vars = []\n",
    "for i, l in zip(dtypes['index'], dtypes[0]):\n",
    "    if l == 'object':\n",
    "        cat_vars.append(i)\n",
    "    else:\n",
    "        num_vars.append(i)"
   ]
  },
  {
   "cell_type": "code",
   "execution_count": 14,
   "id": "3d064972",
   "metadata": {},
   "outputs": [
    {
     "data": {
      "text/plain": [
       "['id',\n",
       " 'loan_amount',\n",
       " 'rate_of_interest',\n",
       " 'interest_rate_spread',\n",
       " 'upfront_charges',\n",
       " 'term',\n",
       " 'property_value',\n",
       " 'income',\n",
       " 'credit_score',\n",
       " 'ltv',\n",
       " 'status',\n",
       " 'dtir1']"
      ]
     },
     "execution_count": 14,
     "metadata": {},
     "output_type": "execute_result"
    }
   ],
   "source": [
    "num_vars"
   ]
  },
  {
   "cell_type": "code",
   "execution_count": 15,
   "id": "803043e0",
   "metadata": {},
   "outputs": [],
   "source": [
    "#let us try to replace the null values of Numerical columns by their mean, from above num_vars, pick those columns\n",
    "#which have null values. We are filling using fillna.\n",
    "\n",
    "loan['rate_of_interest']= loan['rate_of_interest'].fillna(loan['rate_of_interest'].mean())\n",
    "loan['interest_rate_spread']=loan['interest_rate_spread'].fillna(loan['interest_rate_spread'].mean())\n",
    "loan['upfront_charges']=loan['upfront_charges'].fillna(loan['upfront_charges'].mean())\n",
    "loan['term']=loan['term'].fillna(loan['term'].mean())\n",
    "loan['property_value']=loan['property_value'].fillna(loan['property_value'].mean())\n",
    "loan['income']=loan['income'].fillna(loan['income'].mean())\n",
    "loan['ltv']=loan['ltv'].fillna(loan['ltv'].mean())\n",
    "loan['dtir1']=loan['dtir1'].fillna(loan['dtir1'].mean())"
   ]
  },
  {
   "cell_type": "code",
   "execution_count": 16,
   "id": "775d1728",
   "metadata": {},
   "outputs": [
    {
     "data": {
      "text/plain": [
       "id                              0\n",
       "loan_limit                   3344\n",
       "gender                          0\n",
       "approv_in_adv                 908\n",
       "loan_type                       0\n",
       "loan_purpose                  134\n",
       "credit_worthiness               0\n",
       "open_credit                     0\n",
       "business_or_commercial          0\n",
       "loan_amount                     0\n",
       "rate_of_interest                0\n",
       "interest_rate_spread            0\n",
       "upfront_charges                 0\n",
       "term                            0\n",
       "neg_ammortization             121\n",
       "interest_only                   0\n",
       "lump_sum_payment                0\n",
       "property_value                  0\n",
       "construction_type               0\n",
       "occupancy_type                  0\n",
       "secured_by                      0\n",
       "total_units                     0\n",
       "income                          0\n",
       "credit_type                     0\n",
       "credit_score                    0\n",
       "co-applicant_credit_type        0\n",
       "age                           200\n",
       "submission_of_application     200\n",
       "ltv                             0\n",
       "region                          0\n",
       "security_type                   0\n",
       "status                          0\n",
       "dtir1                           0\n",
       "dtype: int64"
      ]
     },
     "execution_count": 16,
     "metadata": {},
     "output_type": "execute_result"
    }
   ],
   "source": [
    "loan.isna().sum()"
   ]
  },
  {
   "cell_type": "markdown",
   "id": "3fd72e8e",
   "metadata": {},
   "source": [
    "So only Categorical columns are left. And we can observe that we have only 3300 maximum Null values, so we will drop them as the dataset is too large."
   ]
  },
  {
   "cell_type": "code",
   "execution_count": 17,
   "id": "24e3ef2b",
   "metadata": {},
   "outputs": [],
   "source": [
    "loan = loan.dropna()"
   ]
  },
  {
   "cell_type": "code",
   "execution_count": 18,
   "id": "91752573",
   "metadata": {},
   "outputs": [
    {
     "data": {
      "text/plain": [
       "id                           0\n",
       "loan_limit                   0\n",
       "gender                       0\n",
       "approv_in_adv                0\n",
       "loan_type                    0\n",
       "loan_purpose                 0\n",
       "credit_worthiness            0\n",
       "open_credit                  0\n",
       "business_or_commercial       0\n",
       "loan_amount                  0\n",
       "rate_of_interest             0\n",
       "interest_rate_spread         0\n",
       "upfront_charges              0\n",
       "term                         0\n",
       "neg_ammortization            0\n",
       "interest_only                0\n",
       "lump_sum_payment             0\n",
       "property_value               0\n",
       "construction_type            0\n",
       "occupancy_type               0\n",
       "secured_by                   0\n",
       "total_units                  0\n",
       "income                       0\n",
       "credit_type                  0\n",
       "credit_score                 0\n",
       "co-applicant_credit_type     0\n",
       "age                          0\n",
       "submission_of_application    0\n",
       "ltv                          0\n",
       "region                       0\n",
       "security_type                0\n",
       "status                       0\n",
       "dtir1                        0\n",
       "dtype: int64"
      ]
     },
     "execution_count": 18,
     "metadata": {},
     "output_type": "execute_result"
    }
   ],
   "source": [
    "loan.isnull().sum()"
   ]
  },
  {
   "cell_type": "markdown",
   "id": "d7e2a248",
   "metadata": {},
   "source": [
    "There are no Null values. Let us work on unique values in categorical columns, so we have better understanding of data. Classifying and storing all categorical columns in a list by checking for unique values < 10. We need to encode these columns."
   ]
  },
  {
   "cell_type": "code",
   "execution_count": 19,
   "id": "91476fac",
   "metadata": {},
   "outputs": [
    {
     "name": "stdout",
     "output_type": "stream",
     "text": [
      "2. loan_limit has 2 unique values, which are ['cf' 'ncf']\n",
      "3. gender has 4 unique values, which are ['Sex Not Available' 'Male' 'Joint' 'Female']\n",
      "4. approv_in_adv has 2 unique values, which are ['nopre' 'pre']\n",
      "5. loan_type has 3 unique values, which are ['type1' 'type2' 'type3']\n",
      "6. loan_purpose has 4 unique values, which are ['p1' 'p4' 'p3' 'p2']\n",
      "7. credit_worthiness has 2 unique values, which are ['l1' 'l2']\n",
      "8. open_credit has 2 unique values, which are ['nopc' 'opc']\n",
      "9. business_or_commercial has 2 unique values, which are ['nob/c' 'b/c']\n",
      "15. neg_ammortization has 2 unique values, which are ['not_neg' 'neg_amm']\n",
      "16. interest_only has 2 unique values, which are ['not_int' 'int_only']\n",
      "17. lump_sum_payment has 2 unique values, which are ['not_lpsm' 'lpsm']\n",
      "19. construction_type has 2 unique values, which are ['sb' 'mh']\n",
      "20. occupancy_type has 3 unique values, which are ['pr' 'sr' 'ir']\n",
      "21. secured_by has 2 unique values, which are ['home' 'land']\n",
      "22. total_units has 4 unique values, which are ['1U' '2U' '3U' '4U']\n",
      "24. credit_type has 4 unique values, which are ['EXP' 'EQUI' 'CRIF' 'CIB']\n",
      "26. co-applicant_credit_type has 2 unique values, which are ['CIB' 'EXP']\n",
      "27. age has 7 unique values, which are ['25-34' '55-64' '35-44' '45-54' '65-74' '>74' '<25']\n",
      "28. submission_of_application has 2 unique values, which are ['to_inst' 'not_inst']\n",
      "30. region has 4 unique values, which are ['south' 'North' 'central' 'North-East']\n",
      "31. security_type has 2 unique values, which are ['direct' 'Indriect']\n",
      "32. status has 2 unique values, which are [1 0]\n"
     ]
    }
   ],
   "source": [
    "n_unique_values = 10\n",
    "all_columns = loan.columns.to_list()\n",
    "categorical_columns = []\n",
    "\n",
    "for i, column in enumerate(all_columns):\n",
    "    temp = loan.loc[:, column].unique()\n",
    "    if len(temp) < n_unique_values:\n",
    "        print (f\"{i+1}. {column} has {len(temp)} unique values, which are {temp}\") \n",
    "        categorical_columns.append(column)\n",
    "del temp"
   ]
  },
  {
   "cell_type": "markdown",
   "id": "c780fd90",
   "metadata": {},
   "source": [
    "let us remove columns which we are not going to be useful and then work on encoding"
   ]
  },
  {
   "cell_type": "code",
   "execution_count": 20,
   "id": "8c9887f2",
   "metadata": {},
   "outputs": [],
   "source": [
    "loan = loan.drop('id',axis=1)"
   ]
  },
  {
   "cell_type": "code",
   "execution_count": 21,
   "id": "d96b99ca",
   "metadata": {},
   "outputs": [],
   "source": [
    "#let us separate categorical columns to do encoding\n",
    "\n",
    "cat_col = loan[categorical_columns]\n",
    "\n",
    "loan = loan.drop(categorical_columns, axis=1)"
   ]
  },
  {
   "cell_type": "markdown",
   "id": "7f6d993f",
   "metadata": {},
   "source": [
    "### Encoding all the categorical columns"
   ]
  },
  {
   "cell_type": "code",
   "execution_count": 22,
   "id": "e296b76a",
   "metadata": {},
   "outputs": [],
   "source": [
    "cat_col=pd.get_dummies(cat_col)"
   ]
  },
  {
   "cell_type": "code",
   "execution_count": 23,
   "id": "62f158fc",
   "metadata": {},
   "outputs": [
    {
     "data": {
      "text/html": [
       "<div>\n",
       "<style scoped>\n",
       "    .dataframe tbody tr th:only-of-type {\n",
       "        vertical-align: middle;\n",
       "    }\n",
       "\n",
       "    .dataframe tbody tr th {\n",
       "        vertical-align: top;\n",
       "    }\n",
       "\n",
       "    .dataframe thead th {\n",
       "        text-align: right;\n",
       "    }\n",
       "</style>\n",
       "<table border=\"1\" class=\"dataframe\">\n",
       "  <thead>\n",
       "    <tr style=\"text-align: right;\">\n",
       "      <th></th>\n",
       "      <th>status</th>\n",
       "      <th>loan_limit_cf</th>\n",
       "      <th>loan_limit_ncf</th>\n",
       "      <th>gender_Female</th>\n",
       "      <th>gender_Joint</th>\n",
       "      <th>gender_Male</th>\n",
       "      <th>gender_Sex Not Available</th>\n",
       "      <th>approv_in_adv_nopre</th>\n",
       "      <th>approv_in_adv_pre</th>\n",
       "      <th>loan_type_type1</th>\n",
       "      <th>...</th>\n",
       "      <th>age_&lt;25</th>\n",
       "      <th>age_&gt;74</th>\n",
       "      <th>submission_of_application_not_inst</th>\n",
       "      <th>submission_of_application_to_inst</th>\n",
       "      <th>region_North</th>\n",
       "      <th>region_North-East</th>\n",
       "      <th>region_central</th>\n",
       "      <th>region_south</th>\n",
       "      <th>security_type_Indriect</th>\n",
       "      <th>security_type_direct</th>\n",
       "    </tr>\n",
       "  </thead>\n",
       "  <tbody>\n",
       "    <tr>\n",
       "      <th>0</th>\n",
       "      <td>1</td>\n",
       "      <td>1</td>\n",
       "      <td>0</td>\n",
       "      <td>0</td>\n",
       "      <td>0</td>\n",
       "      <td>0</td>\n",
       "      <td>1</td>\n",
       "      <td>1</td>\n",
       "      <td>0</td>\n",
       "      <td>1</td>\n",
       "      <td>...</td>\n",
       "      <td>0</td>\n",
       "      <td>0</td>\n",
       "      <td>0</td>\n",
       "      <td>1</td>\n",
       "      <td>0</td>\n",
       "      <td>0</td>\n",
       "      <td>0</td>\n",
       "      <td>1</td>\n",
       "      <td>0</td>\n",
       "      <td>1</td>\n",
       "    </tr>\n",
       "    <tr>\n",
       "      <th>1</th>\n",
       "      <td>1</td>\n",
       "      <td>1</td>\n",
       "      <td>0</td>\n",
       "      <td>0</td>\n",
       "      <td>0</td>\n",
       "      <td>1</td>\n",
       "      <td>0</td>\n",
       "      <td>1</td>\n",
       "      <td>0</td>\n",
       "      <td>0</td>\n",
       "      <td>...</td>\n",
       "      <td>0</td>\n",
       "      <td>0</td>\n",
       "      <td>0</td>\n",
       "      <td>1</td>\n",
       "      <td>1</td>\n",
       "      <td>0</td>\n",
       "      <td>0</td>\n",
       "      <td>0</td>\n",
       "      <td>0</td>\n",
       "      <td>1</td>\n",
       "    </tr>\n",
       "    <tr>\n",
       "      <th>2</th>\n",
       "      <td>0</td>\n",
       "      <td>1</td>\n",
       "      <td>0</td>\n",
       "      <td>0</td>\n",
       "      <td>0</td>\n",
       "      <td>1</td>\n",
       "      <td>0</td>\n",
       "      <td>0</td>\n",
       "      <td>1</td>\n",
       "      <td>1</td>\n",
       "      <td>...</td>\n",
       "      <td>0</td>\n",
       "      <td>0</td>\n",
       "      <td>0</td>\n",
       "      <td>1</td>\n",
       "      <td>0</td>\n",
       "      <td>0</td>\n",
       "      <td>0</td>\n",
       "      <td>1</td>\n",
       "      <td>0</td>\n",
       "      <td>1</td>\n",
       "    </tr>\n",
       "    <tr>\n",
       "      <th>3</th>\n",
       "      <td>0</td>\n",
       "      <td>1</td>\n",
       "      <td>0</td>\n",
       "      <td>0</td>\n",
       "      <td>0</td>\n",
       "      <td>1</td>\n",
       "      <td>0</td>\n",
       "      <td>1</td>\n",
       "      <td>0</td>\n",
       "      <td>1</td>\n",
       "      <td>...</td>\n",
       "      <td>0</td>\n",
       "      <td>0</td>\n",
       "      <td>1</td>\n",
       "      <td>0</td>\n",
       "      <td>1</td>\n",
       "      <td>0</td>\n",
       "      <td>0</td>\n",
       "      <td>0</td>\n",
       "      <td>0</td>\n",
       "      <td>1</td>\n",
       "    </tr>\n",
       "    <tr>\n",
       "      <th>4</th>\n",
       "      <td>0</td>\n",
       "      <td>1</td>\n",
       "      <td>0</td>\n",
       "      <td>0</td>\n",
       "      <td>1</td>\n",
       "      <td>0</td>\n",
       "      <td>0</td>\n",
       "      <td>0</td>\n",
       "      <td>1</td>\n",
       "      <td>1</td>\n",
       "      <td>...</td>\n",
       "      <td>0</td>\n",
       "      <td>0</td>\n",
       "      <td>1</td>\n",
       "      <td>0</td>\n",
       "      <td>1</td>\n",
       "      <td>0</td>\n",
       "      <td>0</td>\n",
       "      <td>0</td>\n",
       "      <td>0</td>\n",
       "      <td>1</td>\n",
       "    </tr>\n",
       "  </tbody>\n",
       "</table>\n",
       "<p>5 rows × 60 columns</p>\n",
       "</div>"
      ],
      "text/plain": [
       "   status  loan_limit_cf  loan_limit_ncf  gender_Female  gender_Joint  \\\n",
       "0       1              1               0              0             0   \n",
       "1       1              1               0              0             0   \n",
       "2       0              1               0              0             0   \n",
       "3       0              1               0              0             0   \n",
       "4       0              1               0              0             1   \n",
       "\n",
       "   gender_Male  gender_Sex Not Available  approv_in_adv_nopre  \\\n",
       "0            0                         1                    1   \n",
       "1            1                         0                    1   \n",
       "2            1                         0                    0   \n",
       "3            1                         0                    1   \n",
       "4            0                         0                    0   \n",
       "\n",
       "   approv_in_adv_pre  loan_type_type1  ...  age_<25  age_>74  \\\n",
       "0                  0                1  ...        0        0   \n",
       "1                  0                0  ...        0        0   \n",
       "2                  1                1  ...        0        0   \n",
       "3                  0                1  ...        0        0   \n",
       "4                  1                1  ...        0        0   \n",
       "\n",
       "   submission_of_application_not_inst  submission_of_application_to_inst  \\\n",
       "0                                   0                                  1   \n",
       "1                                   0                                  1   \n",
       "2                                   0                                  1   \n",
       "3                                   1                                  0   \n",
       "4                                   1                                  0   \n",
       "\n",
       "   region_North  region_North-East  region_central  region_south  \\\n",
       "0             0                  0               0             1   \n",
       "1             1                  0               0             0   \n",
       "2             0                  0               0             1   \n",
       "3             1                  0               0             0   \n",
       "4             1                  0               0             0   \n",
       "\n",
       "   security_type_Indriect  security_type_direct  \n",
       "0                       0                     1  \n",
       "1                       0                     1  \n",
       "2                       0                     1  \n",
       "3                       0                     1  \n",
       "4                       0                     1  \n",
       "\n",
       "[5 rows x 60 columns]"
      ]
     },
     "execution_count": 23,
     "metadata": {},
     "output_type": "execute_result"
    }
   ],
   "source": [
    "cat_col.head()"
   ]
  },
  {
   "cell_type": "code",
   "execution_count": 24,
   "id": "f9f8b0e0",
   "metadata": {},
   "outputs": [],
   "source": [
    "# Combing the columns having continous values with new encoded dataframe\n",
    "\n",
    "loan_df = pd.concat([loan, cat_col], axis=1)"
   ]
  },
  {
   "cell_type": "code",
   "execution_count": 25,
   "id": "ff38d5ef",
   "metadata": {},
   "outputs": [
    {
     "data": {
      "text/html": [
       "<div>\n",
       "<style scoped>\n",
       "    .dataframe tbody tr th:only-of-type {\n",
       "        vertical-align: middle;\n",
       "    }\n",
       "\n",
       "    .dataframe tbody tr th {\n",
       "        vertical-align: top;\n",
       "    }\n",
       "\n",
       "    .dataframe thead th {\n",
       "        text-align: right;\n",
       "    }\n",
       "</style>\n",
       "<table border=\"1\" class=\"dataframe\">\n",
       "  <thead>\n",
       "    <tr style=\"text-align: right;\">\n",
       "      <th></th>\n",
       "      <th>loan_amount</th>\n",
       "      <th>rate_of_interest</th>\n",
       "      <th>interest_rate_spread</th>\n",
       "      <th>upfront_charges</th>\n",
       "      <th>term</th>\n",
       "      <th>property_value</th>\n",
       "      <th>income</th>\n",
       "      <th>credit_score</th>\n",
       "      <th>ltv</th>\n",
       "      <th>dtir1</th>\n",
       "      <th>...</th>\n",
       "      <th>age_&lt;25</th>\n",
       "      <th>age_&gt;74</th>\n",
       "      <th>submission_of_application_not_inst</th>\n",
       "      <th>submission_of_application_to_inst</th>\n",
       "      <th>region_North</th>\n",
       "      <th>region_North-East</th>\n",
       "      <th>region_central</th>\n",
       "      <th>region_south</th>\n",
       "      <th>security_type_Indriect</th>\n",
       "      <th>security_type_direct</th>\n",
       "    </tr>\n",
       "  </thead>\n",
       "  <tbody>\n",
       "    <tr>\n",
       "      <th>0</th>\n",
       "      <td>116500</td>\n",
       "      <td>4.045476</td>\n",
       "      <td>0.441656</td>\n",
       "      <td>3224.996127</td>\n",
       "      <td>360.0</td>\n",
       "      <td>118000.000000</td>\n",
       "      <td>1740.0</td>\n",
       "      <td>758</td>\n",
       "      <td>98.728814</td>\n",
       "      <td>45.000000</td>\n",
       "      <td>...</td>\n",
       "      <td>0</td>\n",
       "      <td>0</td>\n",
       "      <td>0</td>\n",
       "      <td>1</td>\n",
       "      <td>0</td>\n",
       "      <td>0</td>\n",
       "      <td>0</td>\n",
       "      <td>1</td>\n",
       "      <td>0</td>\n",
       "      <td>1</td>\n",
       "    </tr>\n",
       "    <tr>\n",
       "      <th>1</th>\n",
       "      <td>206500</td>\n",
       "      <td>4.045476</td>\n",
       "      <td>0.441656</td>\n",
       "      <td>3224.996127</td>\n",
       "      <td>360.0</td>\n",
       "      <td>497893.465696</td>\n",
       "      <td>4980.0</td>\n",
       "      <td>552</td>\n",
       "      <td>72.746457</td>\n",
       "      <td>37.732932</td>\n",
       "      <td>...</td>\n",
       "      <td>0</td>\n",
       "      <td>0</td>\n",
       "      <td>0</td>\n",
       "      <td>1</td>\n",
       "      <td>1</td>\n",
       "      <td>0</td>\n",
       "      <td>0</td>\n",
       "      <td>0</td>\n",
       "      <td>0</td>\n",
       "      <td>1</td>\n",
       "    </tr>\n",
       "    <tr>\n",
       "      <th>2</th>\n",
       "      <td>406500</td>\n",
       "      <td>4.560000</td>\n",
       "      <td>0.200000</td>\n",
       "      <td>595.000000</td>\n",
       "      <td>360.0</td>\n",
       "      <td>508000.000000</td>\n",
       "      <td>9480.0</td>\n",
       "      <td>834</td>\n",
       "      <td>80.019685</td>\n",
       "      <td>46.000000</td>\n",
       "      <td>...</td>\n",
       "      <td>0</td>\n",
       "      <td>0</td>\n",
       "      <td>0</td>\n",
       "      <td>1</td>\n",
       "      <td>0</td>\n",
       "      <td>0</td>\n",
       "      <td>0</td>\n",
       "      <td>1</td>\n",
       "      <td>0</td>\n",
       "      <td>1</td>\n",
       "    </tr>\n",
       "    <tr>\n",
       "      <th>3</th>\n",
       "      <td>456500</td>\n",
       "      <td>4.250000</td>\n",
       "      <td>0.681000</td>\n",
       "      <td>3224.996127</td>\n",
       "      <td>360.0</td>\n",
       "      <td>658000.000000</td>\n",
       "      <td>11880.0</td>\n",
       "      <td>587</td>\n",
       "      <td>69.376900</td>\n",
       "      <td>42.000000</td>\n",
       "      <td>...</td>\n",
       "      <td>0</td>\n",
       "      <td>0</td>\n",
       "      <td>1</td>\n",
       "      <td>0</td>\n",
       "      <td>1</td>\n",
       "      <td>0</td>\n",
       "      <td>0</td>\n",
       "      <td>0</td>\n",
       "      <td>0</td>\n",
       "      <td>1</td>\n",
       "    </tr>\n",
       "    <tr>\n",
       "      <th>4</th>\n",
       "      <td>696500</td>\n",
       "      <td>4.000000</td>\n",
       "      <td>0.304200</td>\n",
       "      <td>0.000000</td>\n",
       "      <td>360.0</td>\n",
       "      <td>758000.000000</td>\n",
       "      <td>10440.0</td>\n",
       "      <td>602</td>\n",
       "      <td>91.886544</td>\n",
       "      <td>39.000000</td>\n",
       "      <td>...</td>\n",
       "      <td>0</td>\n",
       "      <td>0</td>\n",
       "      <td>1</td>\n",
       "      <td>0</td>\n",
       "      <td>1</td>\n",
       "      <td>0</td>\n",
       "      <td>0</td>\n",
       "      <td>0</td>\n",
       "      <td>0</td>\n",
       "      <td>1</td>\n",
       "    </tr>\n",
       "  </tbody>\n",
       "</table>\n",
       "<p>5 rows × 70 columns</p>\n",
       "</div>"
      ],
      "text/plain": [
       "   loan_amount  rate_of_interest  interest_rate_spread  upfront_charges  \\\n",
       "0       116500          4.045476              0.441656      3224.996127   \n",
       "1       206500          4.045476              0.441656      3224.996127   \n",
       "2       406500          4.560000              0.200000       595.000000   \n",
       "3       456500          4.250000              0.681000      3224.996127   \n",
       "4       696500          4.000000              0.304200         0.000000   \n",
       "\n",
       "    term  property_value   income  credit_score        ltv      dtir1  ...  \\\n",
       "0  360.0   118000.000000   1740.0           758  98.728814  45.000000  ...   \n",
       "1  360.0   497893.465696   4980.0           552  72.746457  37.732932  ...   \n",
       "2  360.0   508000.000000   9480.0           834  80.019685  46.000000  ...   \n",
       "3  360.0   658000.000000  11880.0           587  69.376900  42.000000  ...   \n",
       "4  360.0   758000.000000  10440.0           602  91.886544  39.000000  ...   \n",
       "\n",
       "   age_<25  age_>74  submission_of_application_not_inst  \\\n",
       "0        0        0                                   0   \n",
       "1        0        0                                   0   \n",
       "2        0        0                                   0   \n",
       "3        0        0                                   1   \n",
       "4        0        0                                   1   \n",
       "\n",
       "   submission_of_application_to_inst  region_North  region_North-East  \\\n",
       "0                                  1             0                  0   \n",
       "1                                  1             1                  0   \n",
       "2                                  1             0                  0   \n",
       "3                                  0             1                  0   \n",
       "4                                  0             1                  0   \n",
       "\n",
       "   region_central  region_south  security_type_Indriect  security_type_direct  \n",
       "0               0             1                       0                     1  \n",
       "1               0             0                       0                     1  \n",
       "2               0             1                       0                     1  \n",
       "3               0             0                       0                     1  \n",
       "4               0             0                       0                     1  \n",
       "\n",
       "[5 rows x 70 columns]"
      ]
     },
     "execution_count": 25,
     "metadata": {},
     "output_type": "execute_result"
    }
   ],
   "source": [
    "loan_df.head()"
   ]
  },
  {
   "cell_type": "code",
   "execution_count": 26,
   "id": "1c4b5514",
   "metadata": {},
   "outputs": [],
   "source": [
    "#let us keep the track of top correlated features\n",
    "\n",
    "corr = loan_df.corr().abs()\n",
    "features = []\n",
    "correlations = []\n",
    "for idx, correlation in corr['status'].T.iteritems():\n",
    "    if correlation >= .10 and idx != 'status':\n",
    "        features.append(idx)\n",
    "        correlations.append(correlation)\n",
    "corr_status_df = pd.DataFrame(\n",
    "    {'Correlations':correlations, 'Features': features}).sort_values(by=['Correlations'], ascending=False)"
   ]
  },
  {
   "cell_type": "code",
   "execution_count": 27,
   "id": "60a855b8",
   "metadata": {},
   "outputs": [
    {
     "name": "stdout",
     "output_type": "stream",
     "text": [
      "Correlations with status\n"
     ]
    },
    {
     "data": {
      "text/html": [
       "<div>\n",
       "<style scoped>\n",
       "    .dataframe tbody tr th:only-of-type {\n",
       "        vertical-align: middle;\n",
       "    }\n",
       "\n",
       "    .dataframe tbody tr th {\n",
       "        vertical-align: top;\n",
       "    }\n",
       "\n",
       "    .dataframe thead th {\n",
       "        text-align: right;\n",
       "    }\n",
       "</style>\n",
       "<table border=\"1\" class=\"dataframe\">\n",
       "  <thead>\n",
       "    <tr style=\"text-align: right;\">\n",
       "      <th></th>\n",
       "      <th>Correlations</th>\n",
       "      <th>Features</th>\n",
       "    </tr>\n",
       "  </thead>\n",
       "  <tbody>\n",
       "    <tr>\n",
       "      <th>6</th>\n",
       "      <td>0.589909</td>\n",
       "      <td>credit_type_EQUI</td>\n",
       "    </tr>\n",
       "    <tr>\n",
       "      <th>3</th>\n",
       "      <td>0.191781</td>\n",
       "      <td>lump_sum_payment_not_lpsm</td>\n",
       "    </tr>\n",
       "    <tr>\n",
       "      <th>2</th>\n",
       "      <td>0.191781</td>\n",
       "      <td>lump_sum_payment_lpsm</td>\n",
       "    </tr>\n",
       "    <tr>\n",
       "      <th>9</th>\n",
       "      <td>0.141979</td>\n",
       "      <td>co-applicant_credit_type_EXP</td>\n",
       "    </tr>\n",
       "    <tr>\n",
       "      <th>8</th>\n",
       "      <td>0.141979</td>\n",
       "      <td>co-applicant_credit_type_CIB</td>\n",
       "    </tr>\n",
       "    <tr>\n",
       "      <th>4</th>\n",
       "      <td>0.140994</td>\n",
       "      <td>credit_type_CIB</td>\n",
       "    </tr>\n",
       "    <tr>\n",
       "      <th>1</th>\n",
       "      <td>0.133661</td>\n",
       "      <td>neg_ammortization_not_neg</td>\n",
       "    </tr>\n",
       "    <tr>\n",
       "      <th>0</th>\n",
       "      <td>0.133661</td>\n",
       "      <td>neg_ammortization_neg_amm</td>\n",
       "    </tr>\n",
       "    <tr>\n",
       "      <th>5</th>\n",
       "      <td>0.124630</td>\n",
       "      <td>credit_type_CRIF</td>\n",
       "    </tr>\n",
       "    <tr>\n",
       "      <th>7</th>\n",
       "      <td>0.123233</td>\n",
       "      <td>credit_type_EXP</td>\n",
       "    </tr>\n",
       "    <tr>\n",
       "      <th>11</th>\n",
       "      <td>0.121380</td>\n",
       "      <td>submission_of_application_to_inst</td>\n",
       "    </tr>\n",
       "    <tr>\n",
       "      <th>10</th>\n",
       "      <td>0.121380</td>\n",
       "      <td>submission_of_application_not_inst</td>\n",
       "    </tr>\n",
       "  </tbody>\n",
       "</table>\n",
       "</div>"
      ],
      "text/plain": [
       "    Correlations                            Features\n",
       "6       0.589909                    credit_type_EQUI\n",
       "3       0.191781           lump_sum_payment_not_lpsm\n",
       "2       0.191781               lump_sum_payment_lpsm\n",
       "9       0.141979        co-applicant_credit_type_EXP\n",
       "8       0.141979        co-applicant_credit_type_CIB\n",
       "4       0.140994                     credit_type_CIB\n",
       "1       0.133661           neg_ammortization_not_neg\n",
       "0       0.133661           neg_ammortization_neg_amm\n",
       "5       0.124630                    credit_type_CRIF\n",
       "7       0.123233                     credit_type_EXP\n",
       "11      0.121380   submission_of_application_to_inst\n",
       "10      0.121380  submission_of_application_not_inst"
      ]
     },
     "metadata": {},
     "output_type": "display_data"
    }
   ],
   "source": [
    "print('Correlations with status')\n",
    "display(corr_status_df)"
   ]
  },
  {
   "cell_type": "markdown",
   "id": "3a4b08ca",
   "metadata": {},
   "source": [
    "### Splitting the data"
   ]
  },
  {
   "cell_type": "code",
   "execution_count": 28,
   "id": "32ba2aa5",
   "metadata": {},
   "outputs": [],
   "source": [
    "target = loan_df['status']\n",
    "feature = loan_df.drop('status',axis=1)"
   ]
  },
  {
   "cell_type": "code",
   "execution_count": 29,
   "id": "2aecb6f9",
   "metadata": {},
   "outputs": [],
   "source": [
    "from sklearn.model_selection import train_test_split\n",
    "\n",
    "x_train,x_test,y_train,y_test = train_test_split(feature,target,test_size=0.25)"
   ]
  },
  {
   "cell_type": "markdown",
   "id": "e5b74490",
   "metadata": {},
   "source": [
    "### feature scaling"
   ]
  },
  {
   "cell_type": "code",
   "execution_count": 30,
   "id": "a15fed1d",
   "metadata": {},
   "outputs": [],
   "source": [
    "#scaling using standard scaler\n",
    "\n",
    "from sklearn.preprocessing import StandardScaler\n",
    "\n",
    "stdscaler=StandardScaler()\n",
    "x_train=stdscaler.fit_transform(x_train)\n",
    "x_test=stdscaler.transform(x_test)"
   ]
  },
  {
   "cell_type": "markdown",
   "id": "e3def8ef",
   "metadata": {},
   "source": [
    "# KNN"
   ]
  },
  {
   "cell_type": "code",
   "execution_count": 31,
   "id": "c304cd2d",
   "metadata": {},
   "outputs": [],
   "source": [
    "from sklearn.neighbors import KNeighborsClassifier\n",
    "from sklearn.metrics import accuracy_score,confusion_matrix,classification_report"
   ]
  },
  {
   "cell_type": "code",
   "execution_count": 32,
   "id": "b2316e01",
   "metadata": {},
   "outputs": [
    {
     "data": {
      "text/plain": [
       "KNeighborsClassifier(n_neighbors=7)"
      ]
     },
     "execution_count": 32,
     "metadata": {},
     "output_type": "execute_result"
    }
   ],
   "source": [
    "knn = KNeighborsClassifier(n_neighbors=7)\n",
    "knn.fit(x_train,y_train)"
   ]
  },
  {
   "cell_type": "code",
   "execution_count": 33,
   "id": "84ec2829",
   "metadata": {},
   "outputs": [],
   "source": [
    "y_pred = knn.predict(x_test)"
   ]
  },
  {
   "cell_type": "code",
   "execution_count": 34,
   "id": "dd89b914",
   "metadata": {},
   "outputs": [
    {
     "name": "stdout",
     "output_type": "stream",
     "text": [
      "Accuracy Score of Train Data is :  0.9019696815357404\n"
     ]
    }
   ],
   "source": [
    "print('Accuracy Score of Train Data is : ',knn.score(x_train,y_train))"
   ]
  },
  {
   "cell_type": "code",
   "execution_count": 35,
   "id": "4eb4a49a",
   "metadata": {},
   "outputs": [
    {
     "name": "stdout",
     "output_type": "stream",
     "text": [
      "Accuracy Score of Test Data is :  0.8756528503167018\n"
     ]
    }
   ],
   "source": [
    "score = accuracy_score(y_test,y_pred)\n",
    "print('Accuracy Score of Test Data is : ', score)"
   ]
  },
  {
   "cell_type": "code",
   "execution_count": 36,
   "id": "1bf60df1",
   "metadata": {},
   "outputs": [
    {
     "name": "stdout",
     "output_type": "stream",
     "text": [
      "[[26230   999]\n",
      " [ 3477  5290]]\n"
     ]
    }
   ],
   "source": [
    "print(confusion_matrix(y_test,y_pred))"
   ]
  },
  {
   "cell_type": "code",
   "execution_count": 37,
   "id": "ae706c6a",
   "metadata": {},
   "outputs": [
    {
     "name": "stdout",
     "output_type": "stream",
     "text": [
      "              precision    recall  f1-score   support\n",
      "\n",
      "           0       0.88      0.96      0.92     27229\n",
      "           1       0.84      0.60      0.70      8767\n",
      "\n",
      "    accuracy                           0.88     35996\n",
      "   macro avg       0.86      0.78      0.81     35996\n",
      "weighted avg       0.87      0.88      0.87     35996\n",
      "\n"
     ]
    }
   ],
   "source": [
    "print(classification_report(y_test,y_pred))"
   ]
  },
  {
   "cell_type": "markdown",
   "id": "87dee9e1",
   "metadata": {},
   "source": [
    "From Classification report we can observe, Accuracy Score of Test Data by KNN is 87.7% == 88%"
   ]
  },
  {
   "cell_type": "markdown",
   "id": "aa9e2b80",
   "metadata": {},
   "source": [
    "# Logistic Regression"
   ]
  },
  {
   "cell_type": "code",
   "execution_count": 38,
   "id": "0bce5c90",
   "metadata": {},
   "outputs": [],
   "source": [
    "from sklearn.linear_model import LogisticRegression"
   ]
  },
  {
   "cell_type": "code",
   "execution_count": 39,
   "id": "ee27468e",
   "metadata": {},
   "outputs": [
    {
     "data": {
      "text/plain": [
       "LogisticRegression()"
      ]
     },
     "execution_count": 39,
     "metadata": {},
     "output_type": "execute_result"
    }
   ],
   "source": [
    "lr = LogisticRegression()\n",
    "lr.fit(x_train,y_train)"
   ]
  },
  {
   "cell_type": "code",
   "execution_count": 40,
   "id": "7c0f6d83",
   "metadata": {},
   "outputs": [],
   "source": [
    "y_pred = lr.predict(x_test)"
   ]
  },
  {
   "cell_type": "code",
   "execution_count": 41,
   "id": "c7679acd",
   "metadata": {},
   "outputs": [
    {
     "name": "stdout",
     "output_type": "stream",
     "text": [
      "The Accuracy Score of Train Data by Logistic Regression is :  0.8671506755442785\n"
     ]
    }
   ],
   "source": [
    "print('The Accuracy Score of Train Data by Logistic Regression is : ',lr.score(x_train,y_train))"
   ]
  },
  {
   "cell_type": "code",
   "execution_count": 42,
   "id": "3f1a4ae2",
   "metadata": {},
   "outputs": [
    {
     "name": "stdout",
     "output_type": "stream",
     "text": [
      "The Accuracy Score of Test Data by Logistic Regression is :  0.8663184798310923\n"
     ]
    }
   ],
   "source": [
    "score1 = accuracy_score(y_test,y_pred)\n",
    "print('The Accuracy Score of Test Data by Logistic Regression is : ',score1)"
   ]
  },
  {
   "cell_type": "code",
   "execution_count": 43,
   "id": "d6dd6661",
   "metadata": {},
   "outputs": [
    {
     "name": "stdout",
     "output_type": "stream",
     "text": [
      "[[26975   254]\n",
      " [ 4558  4209]]\n"
     ]
    }
   ],
   "source": [
    "print(confusion_matrix(y_test,y_pred))"
   ]
  },
  {
   "cell_type": "code",
   "execution_count": 44,
   "id": "1b084c1f",
   "metadata": {},
   "outputs": [
    {
     "name": "stdout",
     "output_type": "stream",
     "text": [
      "              precision    recall  f1-score   support\n",
      "\n",
      "           0       0.86      0.99      0.92     27229\n",
      "           1       0.94      0.48      0.64      8767\n",
      "\n",
      "    accuracy                           0.87     35996\n",
      "   macro avg       0.90      0.74      0.78     35996\n",
      "weighted avg       0.88      0.87      0.85     35996\n",
      "\n"
     ]
    }
   ],
   "source": [
    "print(classification_report(y_test,y_pred))"
   ]
  },
  {
   "cell_type": "markdown",
   "id": "ccc87318",
   "metadata": {},
   "source": [
    "From Above, we can see the accuracy score as 86.9% == 87%"
   ]
  },
  {
   "cell_type": "markdown",
   "id": "215a81f2",
   "metadata": {},
   "source": [
    "# Decision Tree"
   ]
  },
  {
   "cell_type": "code",
   "execution_count": 45,
   "id": "6c3739c5",
   "metadata": {},
   "outputs": [],
   "source": [
    "from sklearn.tree import DecisionTreeClassifier"
   ]
  },
  {
   "cell_type": "code",
   "execution_count": 53,
   "id": "a58b125b",
   "metadata": {},
   "outputs": [],
   "source": [
    "dt = DecisionTreeClassifier(max_depth=2)\n",
    "dt.fit(x_train,y_train)\n",
    "y_pred = dt.predict(x_test)"
   ]
  },
  {
   "cell_type": "code",
   "execution_count": 54,
   "id": "f1624c1a",
   "metadata": {},
   "outputs": [
    {
     "name": "stdout",
     "output_type": "stream",
     "text": [
      "Accuracy Score of Train Data by Decision Tree is :  0.8565568077638975\n",
      "Accuracy Score of Test Data by Decision Tree is :  0.8562895877319702\n"
     ]
    }
   ],
   "source": [
    "print('Accuracy Score of Train Data by Decision Tree is : ', dt.score(x_train,y_train))\n",
    "print('Accuracy Score of Test Data by Decision Tree is : ', accuracy_score(y_test,y_pred))"
   ]
  },
  {
   "cell_type": "code",
   "execution_count": 55,
   "id": "752d11f5",
   "metadata": {},
   "outputs": [
    {
     "name": "stdout",
     "output_type": "stream",
     "text": [
      "[[27228     1]\n",
      " [ 5172  3595]]\n"
     ]
    }
   ],
   "source": [
    "print(confusion_matrix(y_test,y_pred))"
   ]
  },
  {
   "cell_type": "code",
   "execution_count": 56,
   "id": "9619c30a",
   "metadata": {},
   "outputs": [
    {
     "name": "stdout",
     "output_type": "stream",
     "text": [
      "              precision    recall  f1-score   support\n",
      "\n",
      "           0       0.84      1.00      0.91     27229\n",
      "           1       1.00      0.41      0.58      8767\n",
      "\n",
      "    accuracy                           0.86     35996\n",
      "   macro avg       0.92      0.71      0.75     35996\n",
      "weighted avg       0.88      0.86      0.83     35996\n",
      "\n"
     ]
    }
   ],
   "source": [
    "print(classification_report(y_test,y_pred))"
   ]
  },
  {
   "cell_type": "markdown",
   "id": "5b30cde9",
   "metadata": {},
   "source": [
    "So we have 86% Accuracy Score with Decision Tree. "
   ]
  },
  {
   "cell_type": "code",
   "execution_count": null,
   "id": "f4da2aa6",
   "metadata": {},
   "outputs": [],
   "source": []
  },
  {
   "cell_type": "code",
   "execution_count": null,
   "id": "8638db85",
   "metadata": {},
   "outputs": [],
   "source": []
  },
  {
   "cell_type": "code",
   "execution_count": null,
   "id": "727923b9",
   "metadata": {},
   "outputs": [],
   "source": []
  },
  {
   "cell_type": "code",
   "execution_count": null,
   "id": "54c269c6",
   "metadata": {},
   "outputs": [],
   "source": []
  }
 ],
 "metadata": {
  "kernelspec": {
   "display_name": "Python 3 (ipykernel)",
   "language": "python",
   "name": "python3"
  },
  "language_info": {
   "codemirror_mode": {
    "name": "ipython",
    "version": 3
   },
   "file_extension": ".py",
   "mimetype": "text/x-python",
   "name": "python",
   "nbconvert_exporter": "python",
   "pygments_lexer": "ipython3",
   "version": "3.9.13"
  }
 },
 "nbformat": 4,
 "nbformat_minor": 5
}
